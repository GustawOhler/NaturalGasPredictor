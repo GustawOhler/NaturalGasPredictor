{
 "cells": [
  {
   "cell_type": "code",
   "execution_count": null,
   "metadata": {},
   "outputs": [],
   "source": [
    "import pandas as pd\n",
    "import matplotlib.pyplot as plt\n",
    "import datetime\n",
    "\n",
    "FILE_URL = 'https://www.eia.gov/opendata/bulk/NG.zip'\n",
    "SPOT_PRICE_DAILY_ID = 'NG.RNGWHHD.D'\n",
    "ALL_IDS = [SPOT_PRICE_DAILY_ID, 'NG.NW2_EPG0_SNO_R33_BCF.W', 'NG.NW2_EPG0_SSO_R33_BCF.W', 'NG.NW2_EPG0_SWO_R31_BCF.W', 'NG.NW2_EPG0_SWO_R32_BCF.W', 'NG.NW2_EPG0_SWO_R33_BCF.W', 'NG.NW2_EPG0_SWO_R34_BCF.W', 'NG.NW2_EPG0_SWO_R35_BCF.W',\n",
    "           'NG.NW2_EPG0_SWO_R48_BCF.W', 'NG.RNGC1.D', 'NG.RNGC2.D', 'NG.RNGC3.D', 'NG.RNGC4.D', 'NG.N9050US1.M', 'NG.N9050US2.M', 'NG.N9140US1.M', 'NG.N9140US2.M', 'NG.N9220US1.M', 'NG.N5020US2.M', 'NG.N9100US2.M', 'NG.N9130US2.M']"
   ]
  },
  {
   "attachments": {},
   "cell_type": "markdown",
   "metadata": {},
   "source": [
    "## Open the file with info and drop rows without data\n"
   ]
  },
  {
   "cell_type": "code",
   "execution_count": null,
   "metadata": {},
   "outputs": [],
   "source": [
    "with open(\"NG.txt\", \"r\") as f:\n",
    "    df = pd.read_json(f, lines=True)"
   ]
  },
  {
   "cell_type": "code",
   "execution_count": null,
   "metadata": {},
   "outputs": [],
   "source": [
    "df = df[df['data'].notna()]"
   ]
  },
  {
   "cell_type": "code",
   "execution_count": null,
   "metadata": {},
   "outputs": [],
   "source": [
    "df.columns"
   ]
  },
  {
   "cell_type": "code",
   "execution_count": null,
   "metadata": {},
   "outputs": [],
   "source": [
    "pd.set_option('display.max_rows', None)\n",
    "pd.set_option('display.max_columns', None)\n",
    "pd.set_option('display.max_colwidth', None)\n",
    "df['name']"
   ]
  },
  {
   "attachments": {},
   "cell_type": "markdown",
   "metadata": {},
   "source": [
    "## Show series which are related to interesting data\n"
   ]
  },
  {
   "cell_type": "code",
   "execution_count": null,
   "metadata": {},
   "outputs": [],
   "source": [
    "# US NG Production\n",
    "with pd.option_context('display.max_rows', None, 'display.max_columns', None, 'display.max_colwidth', None):\n",
    "    display(df[(df['name'].str.contains('U.S.')) & (df['name'].str.contains(\n",
    "        'Production')) & (df['f'].isin(['D', 'W', 'M']))][['name', 'series_id']])"
   ]
  },
  {
   "cell_type": "code",
   "execution_count": null,
   "metadata": {},
   "outputs": [],
   "source": [
    "# Othert interesting series\n",
    "# & (df['geography2'].isna())\n",
    "# with pd.option_context('display.max_rows', None, 'display.max_columns', None, 'display.max_colwidth', None):\n",
    "#     display(df[(df['name'].str.contains('U.S.')) & (df['f'].isin(['D', 'W', 'M'])) & (df['name'].str.contains('Exports'))][['name', 'series_id']])"
   ]
  },
  {
   "attachments": {},
   "cell_type": "markdown",
   "metadata": {},
   "source": [
    "## Try to plot data about daily prices during a year\n"
   ]
  },
  {
   "cell_type": "code",
   "execution_count": null,
   "metadata": {},
   "outputs": [],
   "source": [
    "daily_price = df[df['series_id'] == SPOT_PRICE_DAILY_ID]"
   ]
  },
  {
   "cell_type": "code",
   "execution_count": null,
   "metadata": {},
   "outputs": [],
   "source": [
    "prices = daily_price['data'].tolist()\n",
    "price_df = pd.DataFrame(data=[price[1] for price in prices[0]], index=[\n",
    "                        price[0] for price in prices[0]], columns=['price'])"
   ]
  },
  {
   "cell_type": "code",
   "execution_count": null,
   "metadata": {},
   "outputs": [],
   "source": [
    "price_df.index = pd.to_datetime(price_df.index)"
   ]
  },
  {
   "cell_type": "code",
   "execution_count": null,
   "metadata": {},
   "outputs": [],
   "source": [
    "grouped_price_df = price_df.groupby(price_df.index.year)"
   ]
  },
  {
   "cell_type": "code",
   "execution_count": null,
   "metadata": {},
   "outputs": [],
   "source": [
    "def get_prices_for_year(df, year):\n",
    "    dr = pd.date_range(datetime.datetime(2000, 1, 1),\n",
    "                       datetime.datetime(2000, 12, 31))\n",
    "    curr_group = df.get_group(year)\n",
    "    new_list = []\n",
    "    for date in dr:\n",
    "        query = curr_group[(curr_group.index.month == date.month) & (\n",
    "            curr_group.index.day == date.day)]\n",
    "        new_list.append(None if query.empty else query['price'].iloc[0])\n",
    "    return pd.Series(new_list, index=dr, name=year).dropna()"
   ]
  },
  {
   "cell_type": "code",
   "execution_count": null,
   "metadata": {},
   "outputs": [],
   "source": [
    "plt.figure(figsize=(15, 10))\n",
    "for key in grouped_price_df.groups.keys():\n",
    "    if key > 2015:\n",
    "        md_prices = get_prices_for_year(grouped_price_df, key)\n",
    "        md_prices = md_prices / md_prices.iloc[0]\n",
    "        # plt.plot(grouped_price_df.get_group(key).index.to_series().apply(lambda s: datetime.date(1, s.month, s.day)), grouped_price_df.get_group(key))\n",
    "        plt.plot(md_prices, label=str(key))\n",
    "plt.ylim(0, 3)\n",
    "plt.axvline(datetime.datetime(2000, 9, 18))\n",
    "plt.legend()\n",
    "plt.show()"
   ]
  },
  {
   "cell_type": "code",
   "execution_count": null,
   "metadata": {},
   "outputs": [],
   "source": [
    "all_years = []\n",
    "years = []\n",
    "for key in grouped_price_df.groups.keys():\n",
    "    if key > 2015:\n",
    "        md_prices = get_prices_for_year(grouped_price_df, key)\n",
    "        md_prices = md_prices / md_prices.iloc[0]\n",
    "        all_years.append(md_prices)\n",
    "        # years.append(key)\n",
    "\n",
    "all_years_df = pd.concat(all_years, axis=1)"
   ]
  },
  {
   "cell_type": "code",
   "execution_count": null,
   "metadata": {},
   "outputs": [],
   "source": [
    "all_years_df.head()"
   ]
  },
  {
   "cell_type": "code",
   "execution_count": null,
   "metadata": {},
   "outputs": [],
   "source": [
    "all_years_df['mean'] = all_years_df.mean(axis=1, skipna=True)\n",
    "all_years_df['min'] = all_years_df.min(axis=1, skipna=True)\n",
    "all_years_df['max'] = all_years_df.max(axis=1, skipna=True)\n",
    "all_years_df.sort_index()\n",
    "start = all_years_df.index.searchsorted(datetime.datetime(2000, 4, 1))\n",
    "end = all_years_df.index.searchsorted(datetime.datetime(2000, 5, 30))"
   ]
  },
  {
   "cell_type": "code",
   "execution_count": null,
   "metadata": {},
   "outputs": [],
   "source": [
    "import matplotlib.dates as mdates\n",
    "plt.figure(figsize=(15, 10))\n",
    "all_years_df.plot(y=[\"min\", \"mean\", \"max\"], kind=\"line\")\n",
    "plt.fill_between(all_years_df.index, all_years_df[\"min\"], all_years_df[\"max\"])\n",
    "plt.ylim(0, 3)\n",
    "plt.axvline(datetime.datetime(2000, 9, 18), color='black')\n",
    "plt.legend()\n",
    "plt.gca().xaxis.set_major_locator(mdates.MonthLocator())\n",
    "plt.gca().xaxis.set_minor_locator(mdates.DayLocator(interval=7))\n",
    "plt.show()"
   ]
  },
  {
   "attachments": {},
   "cell_type": "markdown",
   "metadata": {},
   "source": [
    "##\n"
   ]
  },
  {
   "cell_type": "code",
   "execution_count": null,
   "metadata": {},
   "outputs": [],
   "source": [
    "# Wyłapywać wyjątki i poszukać co tam jest źle\n",
    "all_data_list = []\n",
    "for name in df['name']:\n",
    "    data = df[df['name'] == name]['data'].to_list()\n",
    "    try:\n",
    "        observation_dates = [datetime.datetime.strptime(\n",
    "            el[0], '%Y%m%d').date() for el in data[0]]\n",
    "    except ValueError as e:\n",
    "        try:\n",
    "            observation_dates = [datetime.datetime.strptime(\n",
    "                el[0], '%Y%m').date() for el in data[0]]\n",
    "        except ValueError as e:\n",
    "            observation_dates = [datetime.datetime.strptime(\n",
    "                el[0], '%Y').date() for el in data[0]]\n",
    "    all_data_list.append(pd.Series(\n",
    "        data=[el[1] for el in data[0]], index=pd.DatetimeIndex(observation_dates), name=name))\n",
    "all_data_df = pd.concat(all_data_list, axis=1, join='outer')"
   ]
  },
  {
   "cell_type": "code",
   "execution_count": null,
   "metadata": {},
   "outputs": [],
   "source": [
    "all_data_df = all_data_df.sort_index()\n",
    "all_data_df = all_data_df.fillna(method='ffill')\n",
    "all_data_df = all_data_df.loc[:, ~\n",
    "                                     all_data_df.columns.duplicated()].copy()\n",
    "all_data_df = all_data_df[~all_data_df[['Henry Hub Natural Gas Spot Price, Daily',\n",
    "                                        'Natural Gas Futures Contract 1, Daily', 'Natural Gas Futures Contract 2, Daily']].isna().any(axis=1)]"
   ]
  },
  {
   "cell_type": "code",
   "execution_count": null,
   "metadata": {},
   "outputs": [],
   "source": [
    "len(all_data_df.columns)"
   ]
  },
  {
   "cell_type": "code",
   "execution_count": null,
   "metadata": {},
   "outputs": [],
   "source": [
    "correlations_df = all_data_df.corrwith(other=all_data_df['Natural Gas Futures Contract 1, Daily'])"
   ]
  },
  {
   "cell_type": "code",
   "execution_count": null,
   "metadata": {},
   "outputs": [],
   "source": [
    "correlations_df.loc[(~correlations_df.index.str.contains('price')) & (~correlations_df.index.str.contains('Price')) & (~correlations_df.index.str.contains('Annual')) & ((correlations_df >= 0.5) | (correlations_df <= -0.5))]"
   ]
  },
  {
   "cell_type": "code",
   "execution_count": null,
   "metadata": {},
   "outputs": [],
   "source": [
    "# Wyłapywać wyjątki i poszukać co tam jest źle\n",
    "all_data_list = []\n",
    "for name in df[df['series_id'].isin(ALL_IDS)]['name']:\n",
    "    data = df[df['name'] == name]['data'].to_list()\n",
    "    try:\n",
    "        observation_dates = [datetime.datetime.strptime(\n",
    "            el[0], '%Y%m%d').date() for el in data[0]]\n",
    "    except ValueError as e:\n",
    "        observation_dates = [datetime.datetime.strptime(\n",
    "            el[0], '%Y%m').date() for el in data[0]]\n",
    "    all_data_list.append(pd.Series(\n",
    "        data=[el[1] for el in data[0]], index=pd.DatetimeIndex(observation_dates), name=name))\n",
    "all_data_df = pd.concat(all_data_list, axis=1, join='outer')"
   ]
  },
  {
   "cell_type": "code",
   "execution_count": null,
   "metadata": {},
   "outputs": [],
   "source": [
    "all_data_df = all_data_df.sort_index()\n",
    "all_data_df = all_data_df.fillna(method='ffill')\n",
    "all_data_df = all_data_df.loc[:, ~\n",
    "                                     all_data_df.columns.duplicated()].copy()\n",
    "all_data_df = all_data_df[~all_data_df[['Henry Hub Natural Gas Spot Price, Daily',\n",
    "                                        'Natural Gas Futures Contract 1, Daily', 'Natural Gas Futures Contract 2, Daily']].isna().any(axis=1)]"
   ]
  },
  {
   "cell_type": "code",
   "execution_count": null,
   "metadata": {},
   "outputs": [],
   "source": [
    "all_data_df = pd.concat([all_data_df, pd.DataFrame([\n",
    "    [2.68, 2.68, 2.98, 3.43, 3.68],\n",
    "    [2.71, 2.708, 2.98, 3.41, 3.66],\n",
    "    [2.64, 2.64, 2.93, 3.34, 3.59]\n",
    "    ], index=[datetime.datetime(2023, 9, 13), datetime.datetime(2023, 9, 14), datetime.datetime(2023, 9, 15)], columns=[\n",
    "    'Henry Hub Natural Gas Spot Price, Daily',\n",
    "    'Natural Gas Futures Contract 1, Daily',\n",
    "    'Natural Gas Futures Contract 2, Daily',\n",
    "    'Natural Gas Futures Contract 3, Daily',\n",
    "    'Natural Gas Futures Contract 4, Daily'])], )\n",
    "\n",
    "all_data_df[all_data_df.index >= datetime.datetime(2023, 9, 10)] = all_data_df[all_data_df.index >= datetime.datetime(2023, 9, 10)].fillna(method='ffill')"
   ]
  },
  {
   "cell_type": "code",
   "execution_count": null,
   "metadata": {},
   "outputs": [],
   "source": [
    "all_data_df['Day of the week'] = all_data_df.index.dayofweek\n",
    "all_data_df['Day'] = all_data_df.index.day\n",
    "all_data_df['Month'] = all_data_df.index.month"
   ]
  },
  {
   "cell_type": "code",
   "execution_count": null,
   "metadata": {},
   "outputs": [],
   "source": [
    "all_data_df = all_data_df[all_data_df.index >= datetime.datetime(2001, 1, 1)]"
   ]
  },
  {
   "cell_type": "code",
   "execution_count": null,
   "metadata": {},
   "outputs": [],
   "source": [
    "pd.set_option('display.max_columns', None)\n",
    "all_data_df.tail(10)"
   ]
  },
  {
   "cell_type": "code",
   "execution_count": null,
   "metadata": {},
   "outputs": [],
   "source": [
    "all_data_df.corrwith(other=all_data_df['Natural Gas Futures Contract 1, Daily'])"
   ]
  },
  {
   "cell_type": "code",
   "execution_count": null,
   "metadata": {},
   "outputs": [],
   "source": [
    "# pd.set_option('display.max_rows', None)\n",
    "# pd.set_option('display.max_columns', None)\n",
    "# all_data_df"
   ]
  },
  {
   "cell_type": "code",
   "execution_count": null,
   "metadata": {},
   "outputs": [],
   "source": [
    "import seaborn as sns\n",
    "\n",
    "for column in all_data_df.columns:\n",
    "    sns.histplot(all_data_df[column])\n",
    "    plt.show()"
   ]
  },
  {
   "cell_type": "code",
   "execution_count": null,
   "metadata": {},
   "outputs": [],
   "source": [
    "from sklearn import preprocessing\n",
    "\n",
    "columns_for_robust_scalling = ['Henry Hub Natural Gas Spot Price, Daily',\n",
    "                               'Natural Gas Futures Contract 4, Daily',\n",
    "                               'Natural Gas Futures Contract 3, Daily',\n",
    "                               'Natural Gas Futures Contract 2, Daily',\n",
    "                               'Natural Gas Futures Contract 1, Daily',\n",
    "                               'U.S. Natural Gas Exports, Monthly']\n",
    "other_columns = [\n",
    "    column for column in all_data_df.columns if column not in columns_for_robust_scalling]\n",
    "min_max_scaler = preprocessing.StandardScaler()\n",
    "robust_scaler = preprocessing.RobustScaler(quantile_range=(0.0, 75.0))\n",
    "robust_scaled_data = pd.DataFrame(robust_scaler.fit_transform(\n",
    "    all_data_df[columns_for_robust_scalling]), columns=columns_for_robust_scalling, index=all_data_df.index)\n",
    "min_max_scaled_data = pd.DataFrame(min_max_scaler.fit_transform(\n",
    "    all_data_df[other_columns]), columns=other_columns, index=all_data_df.index)\n",
    "all_data_df_scaled = pd.merge(robust_scaled_data, min_max_scaled_data, left_index=True, right_index=True)"
   ]
  },
  {
   "cell_type": "code",
   "execution_count": null,
   "metadata": {},
   "outputs": [],
   "source": [
    "# all_data_df_scaled['Future 1 in one day'] = all_data_df['Natural Gas Futures Contract 1, Daily'].shift(\n",
    "#     -1) - all_data_df['Natural Gas Futures Contract 1, Daily']\n",
    "all_data_df_scaled['Future 1 in one day'] = all_data_df['Natural Gas Futures Contract 1, Daily'].shift(\n",
    "    -1)"
   ]
  },
  {
   "cell_type": "code",
   "execution_count": null,
   "metadata": {},
   "outputs": [],
   "source": [
    "all_data_df_scaled = all_data_df_scaled.fillna(0)"
   ]
  },
  {
   "cell_type": "code",
   "execution_count": null,
   "metadata": {},
   "outputs": [],
   "source": [
    "import seaborn as sns\n",
    "\n",
    "for column in all_data_df_scaled.columns:\n",
    "    sns.histplot(all_data_df_scaled[column])\n",
    "    plt.show()"
   ]
  },
  {
   "cell_type": "code",
   "execution_count": null,
   "metadata": {},
   "outputs": [],
   "source": [
    "from IPython.display import Image\n",
    "\n",
    "pp = sns.pairplot(data=all_data_df,\n",
    "                  y_vars=['Natural Gas Futures Contract 1, Daily'],\n",
    "                  x_vars=all_data_df.columns)\n",
    "for ax in pp.axes.flat:\n",
    "    ax.tick_params(labelrotation=45, labelsize=7)\n",
    "    ax.set_xlabel(xlabel=ax.get_xlabel(), rotation=45, fontsize=8)\n",
    "pp.savefig('Price correlations.png')\n",
    "\n",
    "plt.clf()\n",
    "Image(filename='Price correlations.png')"
   ]
  },
  {
   "cell_type": "code",
   "execution_count": null,
   "metadata": {},
   "outputs": [],
   "source": [
    "# from IPython.display import Image\n",
    "# import seaborn as sns\n",
    "# import matplotlib.pyplot as plt \n",
    "\n",
    "# sns_plot = sns.pairplot(all_data_df_scaled, height=2.0)\n",
    "# sns_plot.savefig(\"pairplot.png\")\n",
    "\n",
    "# plt.clf() # Clean parirplot figure from sns \n",
    "# Image(filename='pairplot.png') # Show pairplot as image"
   ]
  },
  {
   "cell_type": "code",
   "execution_count": null,
   "metadata": {},
   "outputs": [],
   "source": [
    "from math import ceil, floor\n",
    "import numpy as np\n",
    "from sklearn.model_selection import train_test_split\n",
    "\n",
    "# Podział na zbiór treningowy i walidacyjny\n",
    "\n",
    "x_batches = np.array([all_data_df_scaled.iloc[i*50:].head(50).drop(columns=[\n",
    "                     'Future 1 in one day']).values for i in range(floor(len(all_data_df_scaled)/50))])\n",
    "y_batches = np.array([all_data_df_scaled['Future 1 in one day'].iloc[i*50:].head(\n",
    "    50).values for i in range(floor(len(all_data_df_scaled)/50))])\n",
    "y_batches = np.expand_dims(y_batches, -1)"
   ]
  },
  {
   "cell_type": "code",
   "execution_count": null,
   "metadata": {},
   "outputs": [],
   "source": [
    "x_train, x_val, y_train, y_val = train_test_split(\n",
    "    x_batches, y_batches, test_size=0.2)\n",
    "x_val, x_test, y_val, y_test = train_test_split(x_val, y_val, test_size=0.5)"
   ]
  },
  {
   "cell_type": "code",
   "execution_count": null,
   "metadata": {},
   "outputs": [],
   "source": [
    "import tensorflow as tf\n",
    "\n",
    "def sign_metric(y_true, y_pred):\n",
    "    return tf.reduce_mean(tf.cast((((y_true== y_pred) & (y_true==0)) | (y_true*y_pred>0)), tf.float32), axis=-1)\n",
    "\n",
    "inputs = tf.keras.Input(shape=(x_train.shape[1], x_train.shape[2]))\n",
    "x = tf.keras.layers.LSTM(256, return_sequences=True, stateful=False)(inputs)\n",
    "x = tf.keras.layers.LSTM(64, return_sequences=True, stateful=False)(x)\n",
    "outputs = tf.keras.layers.Dense(1)(x)\n",
    "model = tf.keras.Model(inputs=inputs, outputs=outputs)\n",
    "model.compile(optimizer=tf.keras.optimizers.Adam(\n",
    "    learning_rate=1e-4), loss=\"mae\", metrics=[sign_metric])\n",
    "history = model.fit(x_train, y_train, batch_size=8, epochs=1500, validation_data=(x_val, y_val), callbacks=[tf.keras.callbacks.EarlyStopping(patience=10), tf.keras.callbacks.ModelCheckpoint(filepath='best_model.h5', monitor='val_sign_metric', save_best_only=True, save_weights_only=True, mode='max')])\n",
    "model.load_weights('best_model.h5')"
   ]
  },
  {
   "cell_type": "code",
   "execution_count": null,
   "metadata": {},
   "outputs": [],
   "source": [
    "plt.plot(history.history['loss'])\n",
    "plt.plot(history.history['val_loss'])\n",
    "plt.legend(['train', 'val'])\n",
    "plt.show()"
   ]
  },
  {
   "cell_type": "code",
   "execution_count": null,
   "metadata": {},
   "outputs": [],
   "source": [
    "model.evaluate(x_test, y_test)\n",
    "y_hat_test = model.predict(x_test)"
   ]
  },
  {
   "cell_type": "code",
   "execution_count": null,
   "metadata": {},
   "outputs": [],
   "source": [
    "unrolled_y_test = np.array(y_test).ravel()\n",
    "unrolled_y_hat_test = np.array(y_hat_test).ravel()\n",
    "comparision_columns = list(zip(unrolled_y_test, unrolled_y_hat_test, np.roll(unrolled_y_test, -1), unrolled_y_test-unrolled_y_hat_test, (unrolled_y_test-unrolled_y_hat_test)/unrolled_y_test, unrolled_y_hat_test-np.roll(unrolled_y_test, -1), unrolled_y_test-np.roll(unrolled_y_test, -1)))\n",
    "comparision_dataframe = pd.DataFrame(data=comparision_columns, columns=['true','prediction', 'previous price', 'difference','percent diff','predicted daily change','true daily change'])\n",
    "display(comparision_dataframe.head(50))\n",
    "# display(y_test[0,:,0])\n",
    "# display(y_hat_test[0,:,0])"
   ]
  },
  {
   "cell_type": "code",
   "execution_count": null,
   "metadata": {},
   "outputs": [],
   "source": [
    "comparision_dataframe.loc[(comparision_dataframe['percent diff'].abs() > 0.05) & (((comparision_dataframe['predicted daily change'] > 0) & (comparision_dataframe['true daily change'] < 0)) | ((comparision_dataframe['predicted daily change'] < 0) & (comparision_dataframe['true daily change'] > 0)))]"
   ]
  },
  {
   "cell_type": "code",
   "execution_count": null,
   "metadata": {},
   "outputs": [],
   "source": [
    "plt.boxplot(comparision_dataframe['difference'], showfliers=False)\n",
    "plt.show()"
   ]
  },
  {
   "cell_type": "code",
   "execution_count": null,
   "metadata": {},
   "outputs": [],
   "source": [
    "# for column in all_data_df.columns:\n",
    "#     plt.boxplot(all_data_df[column].dropna(), sym=\"*\", labels=[column])\n",
    "#     plt.show()"
   ]
  },
  {
   "cell_type": "code",
   "execution_count": null,
   "metadata": {},
   "outputs": [],
   "source": []
  }
 ],
 "metadata": {
  "kernelspec": {
   "display_name": "venv",
   "language": "python",
   "name": "python3"
  },
  "language_info": {
   "codemirror_mode": {
    "name": "ipython",
    "version": 3
   },
   "file_extension": ".py",
   "mimetype": "text/x-python",
   "name": "python",
   "nbconvert_exporter": "python",
   "pygments_lexer": "ipython3",
   "version": "3.11.0"
  },
  "orig_nbformat": 4
 },
 "nbformat": 4,
 "nbformat_minor": 2
}
